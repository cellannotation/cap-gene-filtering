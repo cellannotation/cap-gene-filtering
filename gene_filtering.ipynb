{
 "cells": [
  {
   "cell_type": "code",
   "execution_count": 1,
   "metadata": {
    "ExecuteTime": {
     "end_time": "2025-05-15T08:46:42.442168Z",
     "start_time": "2025-05-15T08:46:42.439418Z"
    }
   },
   "outputs": [],
   "source": [
    "import pandas as pd\n",
    "pd.options.display.max_rows = 10"
   ]
  },
  {
   "cell_type": "code",
   "execution_count": 2,
   "metadata": {
    "ExecuteTime": {
     "end_time": "2025-05-15T08:46:42.488958Z",
     "start_time": "2025-05-15T08:46:42.485891Z"
    }
   },
   "outputs": [],
   "source": [
    "# URL for GeneNames file\n",
    "GENE_NAMES_URL = \"https://storage.googleapis.com/public-download-files/hgnc/tsv/tsv/non_alt_loci_set.txt\"\n",
    "# URL for TCR and BCR genes\n",
    "TCR_GENES_URL = \"https://github.com/nealpsmith/neals_python_functions/raw/refs/heads/master/neals_python_functions/analysis/db/tcr_genes.tsv\"\n",
    "BCR_GENES_URL = \"https://github.com/nealpsmith/neals_python_functions/raw/refs/heads/master/neals_python_functions/analysis/db/bcr_genes.tsv\"\n",
    "\n",
    "# Human Gene MAP path\n",
    "GENE_MAP_PATH = \"gene-lists/homo_sapiens.csv\"\n",
    "\n",
    "# Excluded TCR genes\n",
    "EXCLUDED_TCR_GENES = {'TRAV1-2', 'TRGV9', 'TRDV2'}\n",
    "EXCLUDED_BCR_LABEL = \"constant\"\n",
    "\n",
    "# File name with genes which should be filtered out\n",
    "RESULTS_PATH = \"gene-lists/filtered_out.csv\""
   ]
  },
  {
   "cell_type": "code",
   "execution_count": 3,
   "metadata": {
    "ExecuteTime": {
     "end_time": "2025-05-15T08:46:45.711585Z",
     "start_time": "2025-05-15T08:46:42.515411Z"
    }
   },
   "outputs": [
    {
     "name": "stdout",
     "output_type": "stream",
     "text": [
      "--2025-05-15 10:54:32--  https://storage.googleapis.com/public-download-files/hgnc/tsv/tsv/non_alt_loci_set.txt\n",
      "Resolving storage.googleapis.com (storage.googleapis.com)... 172.217.18.27, 142.250.185.187, 142.250.185.91, ...\n",
      "Connecting to storage.googleapis.com (storage.googleapis.com)|172.217.18.27|:443... connected.\n",
      "HTTP request sent, awaiting response... 200 OK\n",
      "Length: 16568000 (16M) [text/plain]\n",
      "Saving to: ‘gene-lists/non_alt_loci_set.txt’\n",
      "\n",
      "gene-lists/non_alt_ 100%[===================>]  15.80M  10.2MB/s    in 1.5s    \n",
      "\n",
      "2025-05-15 10:54:34 (10.2 MB/s) - ‘gene-lists/non_alt_loci_set.txt’ saved [16568000/16568000]\n",
      "\n",
      "--2025-05-15 10:54:34--  https://github.com/nealpsmith/neals_python_functions/raw/refs/heads/master/neals_python_functions/analysis/db/tcr_genes.tsv\n",
      "Resolving github.com (github.com)... 140.82.121.3\n",
      "Connecting to github.com (github.com)|140.82.121.3|:443... connected.\n",
      "HTTP request sent, awaiting response... 302 Found\n",
      "Location: https://raw.githubusercontent.com/nealpsmith/neals_python_functions/refs/heads/master/neals_python_functions/analysis/db/tcr_genes.tsv [following]\n",
      "--2025-05-15 10:54:34--  https://raw.githubusercontent.com/nealpsmith/neals_python_functions/refs/heads/master/neals_python_functions/analysis/db/tcr_genes.tsv\n",
      "Resolving raw.githubusercontent.com (raw.githubusercontent.com)... 185.199.110.133, 185.199.111.133, 185.199.108.133, ...\n",
      "Connecting to raw.githubusercontent.com (raw.githubusercontent.com)|185.199.110.133|:443... connected.\n",
      "HTTP request sent, awaiting response... 200 OK\n",
      "Length: 47117 (46K) [text/plain]\n",
      "Saving to: ‘gene-lists/tcr_genes.tsv’\n",
      "\n",
      "gene-lists/tcr_gene 100%[===================>]  46.01K  --.-KB/s    in 0.01s   \n",
      "\n",
      "2025-05-15 10:54:34 (3.32 MB/s) - ‘gene-lists/tcr_genes.tsv’ saved [47117/47117]\n",
      "\n",
      "--2025-05-15 10:54:34--  https://github.com/nealpsmith/neals_python_functions/raw/refs/heads/master/neals_python_functions/analysis/db/bcr_genes.tsv\n",
      "Resolving github.com (github.com)... 140.82.121.3\n",
      "Connecting to github.com (github.com)|140.82.121.3|:443... connected.\n",
      "HTTP request sent, awaiting response... 302 Found\n",
      "Location: https://raw.githubusercontent.com/nealpsmith/neals_python_functions/refs/heads/master/neals_python_functions/analysis/db/bcr_genes.tsv [following]\n",
      "--2025-05-15 10:54:35--  https://raw.githubusercontent.com/nealpsmith/neals_python_functions/refs/heads/master/neals_python_functions/analysis/db/bcr_genes.tsv\n",
      "Resolving raw.githubusercontent.com (raw.githubusercontent.com)... 185.199.110.133, 185.199.111.133, 185.199.108.133, ...\n",
      "Connecting to raw.githubusercontent.com (raw.githubusercontent.com)|185.199.110.133|:443... connected.\n",
      "HTTP request sent, awaiting response... 200 OK\n",
      "Length: 84274 (82K) [text/plain]\n",
      "Saving to: ‘gene-lists/bcr_genes.tsv’\n",
      "\n",
      "gene-lists/bcr_gene 100%[===================>]  82.30K  --.-KB/s    in 0.02s   \n",
      "\n",
      "2025-05-15 10:54:35 (4.79 MB/s) - ‘gene-lists/bcr_genes.tsv’ saved [84274/84274]\n",
      "\n"
     ]
    }
   ],
   "source": [
    "# Download static tcr and bcr gene lists\n",
    "!wget https://storage.googleapis.com/public-download-files/hgnc/tsv/tsv/non_alt_loci_set.txt -O gene-lists/non_alt_loci_set.txt\n",
    "!wget https://github.com/nealpsmith/neals_python_functions/raw/refs/heads/master/neals_python_functions/analysis/db/tcr_genes.tsv -O gene-lists/tcr_genes.tsv\n",
    "!wget https://github.com/nealpsmith/neals_python_functions/raw/refs/heads/master/neals_python_functions/analysis/db/bcr_genes.tsv -O gene-lists/bcr_genes.tsv"
   ]
  },
  {
   "cell_type": "code",
   "execution_count": 4,
   "metadata": {
    "ExecuteTime": {
     "end_time": "2025-05-15T08:46:46.255307Z",
     "start_time": "2025-05-15T08:46:45.738617Z"
    }
   },
   "outputs": [
    {
     "name": "stderr",
     "output_type": "stream",
     "text": [
      "/var/folders/8b/rc5d2b2j6131yf28dplq_0k51g1hnm/T/ipykernel_32425/400562353.py:1: DtypeWarning: Columns (32,34,38,40,50) have mixed types. Specify dtype option on import or set low_memory=False.\n",
      "  genenames = pd.read_csv(\"gene-lists/non_alt_loci_set.txt\", sep=\"\\t\").fillna(\"\")\n"
     ]
    },
    {
     "data": {
      "text/html": [
       "<div>\n",
       "<style scoped>\n",
       "    .dataframe tbody tr th:only-of-type {\n",
       "        vertical-align: middle;\n",
       "    }\n",
       "\n",
       "    .dataframe tbody tr th {\n",
       "        vertical-align: top;\n",
       "    }\n",
       "\n",
       "    .dataframe thead th {\n",
       "        text-align: right;\n",
       "    }\n",
       "</style>\n",
       "<table border=\"1\" class=\"dataframe\">\n",
       "  <thead>\n",
       "    <tr style=\"text-align: right;\">\n",
       "      <th></th>\n",
       "      <th>hgnc_id</th>\n",
       "      <th>symbol</th>\n",
       "      <th>name</th>\n",
       "      <th>locus_group</th>\n",
       "      <th>locus_type</th>\n",
       "      <th>status</th>\n",
       "      <th>location</th>\n",
       "      <th>location_sortable</th>\n",
       "      <th>alias_symbol</th>\n",
       "      <th>alias_name</th>\n",
       "      <th>...</th>\n",
       "      <th>cd</th>\n",
       "      <th>lncrnadb</th>\n",
       "      <th>enzyme_id</th>\n",
       "      <th>intermediate_filament_db</th>\n",
       "      <th>rna_central_id</th>\n",
       "      <th>lncipedia</th>\n",
       "      <th>gtrnadb</th>\n",
       "      <th>agr</th>\n",
       "      <th>mane_select</th>\n",
       "      <th>gencc</th>\n",
       "    </tr>\n",
       "    <tr>\n",
       "      <th>ensembl_gene_id</th>\n",
       "      <th></th>\n",
       "      <th></th>\n",
       "      <th></th>\n",
       "      <th></th>\n",
       "      <th></th>\n",
       "      <th></th>\n",
       "      <th></th>\n",
       "      <th></th>\n",
       "      <th></th>\n",
       "      <th></th>\n",
       "      <th></th>\n",
       "      <th></th>\n",
       "      <th></th>\n",
       "      <th></th>\n",
       "      <th></th>\n",
       "      <th></th>\n",
       "      <th></th>\n",
       "      <th></th>\n",
       "      <th></th>\n",
       "      <th></th>\n",
       "      <th></th>\n",
       "    </tr>\n",
       "  </thead>\n",
       "  <tbody>\n",
       "    <tr>\n",
       "      <th>ENSG00000121410</th>\n",
       "      <td>HGNC:5</td>\n",
       "      <td>A1BG</td>\n",
       "      <td>alpha-1-B glycoprotein</td>\n",
       "      <td>protein-coding gene</td>\n",
       "      <td>gene with protein product</td>\n",
       "      <td>Approved</td>\n",
       "      <td>19q13.43</td>\n",
       "      <td>19q13.43</td>\n",
       "      <td></td>\n",
       "      <td></td>\n",
       "      <td>...</td>\n",
       "      <td></td>\n",
       "      <td></td>\n",
       "      <td></td>\n",
       "      <td></td>\n",
       "      <td></td>\n",
       "      <td></td>\n",
       "      <td></td>\n",
       "      <td>HGNC:5</td>\n",
       "      <td>ENST00000263100.8|NM_130786.4</td>\n",
       "      <td></td>\n",
       "    </tr>\n",
       "    <tr>\n",
       "      <th>ENSG00000268895</th>\n",
       "      <td>HGNC:37133</td>\n",
       "      <td>A1BG-AS1</td>\n",
       "      <td>A1BG antisense RNA 1</td>\n",
       "      <td>non-coding RNA</td>\n",
       "      <td>RNA, long non-coding</td>\n",
       "      <td>Approved</td>\n",
       "      <td>19q13.43</td>\n",
       "      <td>19q13.43</td>\n",
       "      <td>FLJ23569</td>\n",
       "      <td></td>\n",
       "      <td>...</td>\n",
       "      <td></td>\n",
       "      <td></td>\n",
       "      <td></td>\n",
       "      <td></td>\n",
       "      <td>URS00007E4F6E</td>\n",
       "      <td>A1BG-AS1</td>\n",
       "      <td></td>\n",
       "      <td>HGNC:37133</td>\n",
       "      <td></td>\n",
       "      <td></td>\n",
       "    </tr>\n",
       "    <tr>\n",
       "      <th>ENSG00000148584</th>\n",
       "      <td>HGNC:24086</td>\n",
       "      <td>A1CF</td>\n",
       "      <td>APOBEC1 complementation factor</td>\n",
       "      <td>protein-coding gene</td>\n",
       "      <td>gene with protein product</td>\n",
       "      <td>Approved</td>\n",
       "      <td>10q11.23</td>\n",
       "      <td>10q11.23</td>\n",
       "      <td>ACF|ASP|ACF64|ACF65|APOBEC1CF</td>\n",
       "      <td></td>\n",
       "      <td>...</td>\n",
       "      <td></td>\n",
       "      <td></td>\n",
       "      <td></td>\n",
       "      <td></td>\n",
       "      <td></td>\n",
       "      <td></td>\n",
       "      <td></td>\n",
       "      <td>HGNC:24086</td>\n",
       "      <td>ENST00000373997.8|NM_014576.4</td>\n",
       "      <td></td>\n",
       "    </tr>\n",
       "  </tbody>\n",
       "</table>\n",
       "<p>3 rows × 53 columns</p>\n",
       "</div>"
      ],
      "text/plain": [
       "                    hgnc_id    symbol                            name  \\\n",
       "ensembl_gene_id                                                         \n",
       "ENSG00000121410      HGNC:5      A1BG          alpha-1-B glycoprotein   \n",
       "ENSG00000268895  HGNC:37133  A1BG-AS1            A1BG antisense RNA 1   \n",
       "ENSG00000148584  HGNC:24086      A1CF  APOBEC1 complementation factor   \n",
       "\n",
       "                         locus_group                 locus_type    status  \\\n",
       "ensembl_gene_id                                                             \n",
       "ENSG00000121410  protein-coding gene  gene with protein product  Approved   \n",
       "ENSG00000268895       non-coding RNA       RNA, long non-coding  Approved   \n",
       "ENSG00000148584  protein-coding gene  gene with protein product  Approved   \n",
       "\n",
       "                 location location_sortable                   alias_symbol  \\\n",
       "ensembl_gene_id                                                              \n",
       "ENSG00000121410  19q13.43          19q13.43                                  \n",
       "ENSG00000268895  19q13.43          19q13.43                       FLJ23569   \n",
       "ENSG00000148584  10q11.23          10q11.23  ACF|ASP|ACF64|ACF65|APOBEC1CF   \n",
       "\n",
       "                alias_name  ... cd lncrnadb enzyme_id  \\\n",
       "ensembl_gene_id             ...                         \n",
       "ENSG00000121410             ...                         \n",
       "ENSG00000268895             ...                         \n",
       "ENSG00000148584             ...                         \n",
       "\n",
       "                intermediate_filament_db rna_central_id lncipedia gtrnadb  \\\n",
       "ensembl_gene_id                                                             \n",
       "ENSG00000121410                                                             \n",
       "ENSG00000268895                           URS00007E4F6E  A1BG-AS1           \n",
       "ENSG00000148584                                                             \n",
       "\n",
       "                        agr                    mane_select gencc  \n",
       "ensembl_gene_id                                                   \n",
       "ENSG00000121410      HGNC:5  ENST00000263100.8|NM_130786.4        \n",
       "ENSG00000268895  HGNC:37133                                       \n",
       "ENSG00000148584  HGNC:24086  ENST00000373997.8|NM_014576.4        \n",
       "\n",
       "[3 rows x 53 columns]"
      ]
     },
     "execution_count": 4,
     "metadata": {},
     "output_type": "execute_result"
    }
   ],
   "source": [
    "genenames = pd.read_csv(\"gene-lists/non_alt_loci_set.txt\", sep=\"\\t\").fillna(\"\")\n",
    "genenames.set_index(\"ensembl_gene_id\", inplace=True)\n",
    "genenames.head(3)"
   ]
  },
  {
   "cell_type": "code",
   "execution_count": 5,
   "metadata": {
    "ExecuteTime": {
     "end_time": "2025-05-15T08:46:46.348302Z",
     "start_time": "2025-05-15T08:46:46.315072Z"
    }
   },
   "outputs": [
    {
     "data": {
      "text/html": [
       "<div>\n",
       "<style scoped>\n",
       "    .dataframe tbody tr th:only-of-type {\n",
       "        vertical-align: middle;\n",
       "    }\n",
       "\n",
       "    .dataframe tbody tr th {\n",
       "        vertical-align: top;\n",
       "    }\n",
       "\n",
       "    .dataframe thead th {\n",
       "        text-align: right;\n",
       "    }\n",
       "</style>\n",
       "<table border=\"1\" class=\"dataframe\">\n",
       "  <thead>\n",
       "    <tr style=\"text-align: right;\">\n",
       "      <th></th>\n",
       "      <th>hgnc_id</th>\n",
       "      <th>symbol</th>\n",
       "      <th>name</th>\n",
       "      <th>locus_group</th>\n",
       "      <th>locus_type</th>\n",
       "      <th>status</th>\n",
       "      <th>location</th>\n",
       "      <th>location_sortable</th>\n",
       "      <th>alias_symbol</th>\n",
       "      <th>alias_name</th>\n",
       "      <th>...</th>\n",
       "      <th>cd</th>\n",
       "      <th>lncrnadb</th>\n",
       "      <th>enzyme_id</th>\n",
       "      <th>intermediate_filament_db</th>\n",
       "      <th>rna_central_id</th>\n",
       "      <th>lncipedia</th>\n",
       "      <th>gtrnadb</th>\n",
       "      <th>agr</th>\n",
       "      <th>mane_select</th>\n",
       "      <th>gencc</th>\n",
       "    </tr>\n",
       "    <tr>\n",
       "      <th>ensembl_gene_id</th>\n",
       "      <th></th>\n",
       "      <th></th>\n",
       "      <th></th>\n",
       "      <th></th>\n",
       "      <th></th>\n",
       "      <th></th>\n",
       "      <th></th>\n",
       "      <th></th>\n",
       "      <th></th>\n",
       "      <th></th>\n",
       "      <th></th>\n",
       "      <th></th>\n",
       "      <th></th>\n",
       "      <th></th>\n",
       "      <th></th>\n",
       "      <th></th>\n",
       "      <th></th>\n",
       "      <th></th>\n",
       "      <th></th>\n",
       "      <th></th>\n",
       "      <th></th>\n",
       "    </tr>\n",
       "  </thead>\n",
       "  <tbody>\n",
       "    <tr>\n",
       "      <th>ENSG00000256069</th>\n",
       "      <td>HGNC:8</td>\n",
       "      <td>A2MP1</td>\n",
       "      <td>alpha-2-macroglobulin pseudogene 1</td>\n",
       "      <td>pseudogene</td>\n",
       "      <td>pseudogene</td>\n",
       "      <td>Approved</td>\n",
       "      <td>12p13.31</td>\n",
       "      <td>12p13.31</td>\n",
       "      <td></td>\n",
       "      <td></td>\n",
       "      <td>...</td>\n",
       "      <td></td>\n",
       "      <td></td>\n",
       "      <td></td>\n",
       "      <td></td>\n",
       "      <td></td>\n",
       "      <td></td>\n",
       "      <td></td>\n",
       "      <td>HGNC:8</td>\n",
       "      <td></td>\n",
       "      <td></td>\n",
       "    </tr>\n",
       "    <tr>\n",
       "      <th>ENSG00000250420</th>\n",
       "      <td>HGNC:18226</td>\n",
       "      <td>AACSP1</td>\n",
       "      <td>acetoacetyl-CoA synthetase pseudogene 1</td>\n",
       "      <td>pseudogene</td>\n",
       "      <td>pseudogene</td>\n",
       "      <td>Approved</td>\n",
       "      <td>5q35.3</td>\n",
       "      <td>05q35.3</td>\n",
       "      <td></td>\n",
       "      <td></td>\n",
       "      <td>...</td>\n",
       "      <td></td>\n",
       "      <td></td>\n",
       "      <td></td>\n",
       "      <td></td>\n",
       "      <td></td>\n",
       "      <td></td>\n",
       "      <td></td>\n",
       "      <td>HGNC:18226</td>\n",
       "      <td></td>\n",
       "      <td></td>\n",
       "    </tr>\n",
       "    <tr>\n",
       "      <th>ENSG00000240602</th>\n",
       "      <td>HGNC:50305</td>\n",
       "      <td>AADACP1</td>\n",
       "      <td>arylacetamide deacetylase pseudogene 1</td>\n",
       "      <td>pseudogene</td>\n",
       "      <td>pseudogene</td>\n",
       "      <td>Approved</td>\n",
       "      <td>3q25.1</td>\n",
       "      <td>03q25.1</td>\n",
       "      <td></td>\n",
       "      <td></td>\n",
       "      <td>...</td>\n",
       "      <td></td>\n",
       "      <td></td>\n",
       "      <td></td>\n",
       "      <td></td>\n",
       "      <td></td>\n",
       "      <td></td>\n",
       "      <td></td>\n",
       "      <td>HGNC:50305</td>\n",
       "      <td></td>\n",
       "      <td></td>\n",
       "    </tr>\n",
       "  </tbody>\n",
       "</table>\n",
       "<p>3 rows × 53 columns</p>\n",
       "</div>"
      ],
      "text/plain": [
       "                    hgnc_id   symbol                                     name  \\\n",
       "ensembl_gene_id                                                                 \n",
       "ENSG00000256069      HGNC:8    A2MP1       alpha-2-macroglobulin pseudogene 1   \n",
       "ENSG00000250420  HGNC:18226   AACSP1  acetoacetyl-CoA synthetase pseudogene 1   \n",
       "ENSG00000240602  HGNC:50305  AADACP1   arylacetamide deacetylase pseudogene 1   \n",
       "\n",
       "                locus_group  locus_type    status  location location_sortable  \\\n",
       "ensembl_gene_id                                                                 \n",
       "ENSG00000256069  pseudogene  pseudogene  Approved  12p13.31          12p13.31   \n",
       "ENSG00000250420  pseudogene  pseudogene  Approved    5q35.3           05q35.3   \n",
       "ENSG00000240602  pseudogene  pseudogene  Approved    3q25.1           03q25.1   \n",
       "\n",
       "                alias_symbol alias_name  ... cd lncrnadb enzyme_id  \\\n",
       "ensembl_gene_id                          ...                         \n",
       "ENSG00000256069                          ...                         \n",
       "ENSG00000250420                          ...                         \n",
       "ENSG00000240602                          ...                         \n",
       "\n",
       "                intermediate_filament_db rna_central_id lncipedia gtrnadb  \\\n",
       "ensembl_gene_id                                                             \n",
       "ENSG00000256069                                                             \n",
       "ENSG00000250420                                                             \n",
       "ENSG00000240602                                                             \n",
       "\n",
       "                        agr mane_select gencc  \n",
       "ensembl_gene_id                                \n",
       "ENSG00000256069      HGNC:8                    \n",
       "ENSG00000250420  HGNC:18226                    \n",
       "ENSG00000240602  HGNC:50305                    \n",
       "\n",
       "[3 rows x 53 columns]"
      ]
     },
     "execution_count": 5,
     "metadata": {},
     "output_type": "execute_result"
    }
   ],
   "source": [
    "# All pseudogenes (subset by “Locus Type == pseudogene”\n",
    "pseudogenes = genenames.loc[genenames.locus_type.str.contains(\"pseudogene\")]\n",
    "pseudogenes.head(3)"
   ]
  },
  {
   "cell_type": "code",
   "execution_count": 6,
   "metadata": {
    "ExecuteTime": {
     "end_time": "2025-05-15T08:46:46.528821Z",
     "start_time": "2025-05-15T08:46:46.504048Z"
    }
   },
   "outputs": [
    {
     "data": {
      "text/plain": [
       "ensembl_gene_id\n",
       "ENSG00000177646      ACAD9\n",
       "ENSG00000164896      FASTK\n",
       "ENSG00000138399    FASTKD1\n",
       "ENSG00000118246    FASTKD2\n",
       "ENSG00000124279    FASTKD3\n",
       "                    ...   \n",
       "ENSG00000179091       CYC1\n",
       "ENSG00000132676       DAP3\n",
       "ENSG00000137038      DMAC1\n",
       "ENSG00000105341      DMAC2\n",
       "ENSG00000130159      ECSIT\n",
       "Name: symbol, Length: 346, dtype: object"
      ]
     },
     "execution_count": 6,
     "metadata": {},
     "output_type": "execute_result"
    }
   ],
   "source": [
    "# All genes where the “Gene group name” contains the word “mitochondria”\n",
    "mitochondrial = genenames.loc[genenames.gene_group.str.contains(r\"\\b[Mm]itochondria\"), \"symbol\"]\n",
    "mitochondrial"
   ]
  },
  {
   "cell_type": "code",
   "execution_count": 7,
   "metadata": {
    "ExecuteTime": {
     "end_time": "2025-05-15T08:46:47.990657Z",
     "start_time": "2025-05-15T08:46:46.634531Z"
    }
   },
   "outputs": [
    {
     "data": {
      "text/plain": [
       "0       SFXN4P1\n",
       "1       GLRX5P1\n",
       "2       GLRX5P3\n",
       "3      HIGD2AP1\n",
       "4      HIGD2AP2\n",
       "         ...   \n",
       "632     COX16P1\n",
       "633     COX17P1\n",
       "634     COX20P1\n",
       "635     COX20P2\n",
       "636     DMAC1P1\n",
       "Length: 637, dtype: object"
      ]
     },
     "execution_count": 7,
     "metadata": {},
     "output_type": "execute_result"
    }
   ],
   "source": [
    "# All the pseudogenes associated with the genes selected in the Mitochondrial genes section\n",
    "mitochondrial_pseudo = pd.Series()\n",
    "for name in mitochondrial.values:\n",
    "    df = pseudogenes.loc[pseudogenes.name.str.contains(name), \"symbol\"]\n",
    "    mitochondrial_pseudo = pd.concat((mitochondrial_pseudo, df), ignore_index=True)\n",
    "mitochondrial_pseudo.drop(columns=0, inplace=True)\n",
    "mitochondrial_pseudo"
   ]
  },
  {
   "cell_type": "code",
   "execution_count": 8,
   "metadata": {
    "ExecuteTime": {
     "end_time": "2025-05-15T08:46:48.128514Z",
     "start_time": "2025-05-15T08:46:48.097636Z"
    }
   },
   "outputs": [
    {
     "data": {
      "text/plain": [
       "ensembl_gene_id\n",
       "ENSG00000085231           AK6\n",
       "ENSG00000149806           FAU\n",
       "ENSG00000179271    GADD45GIP1\n",
       "ENSG00000001497         LAS1L\n",
       "ENSG00000169288         MRPL1\n",
       "Name: symbol, dtype: object"
      ]
     },
     "execution_count": 8,
     "metadata": {},
     "output_type": "execute_result"
    }
   ],
   "source": [
    "# All genes where the “Locus type” contains the word “ribosomal”\n",
    "ribosomal = genenames.loc[\n",
    "    genenames.gene_group.str.contains(\"ribosomal|Ribosomal\") |\n",
    "    genenames.symbol.isin([\"RPL17-C18orf32\", \"RPL17P52\", \"RPL36A-HNRNPH2\", \"RPS10-NUDT3\"]),  # additional ribosomal genes missed by above filter\n",
    "    [\"symbol\", \"name\"]\n",
    "]\n",
    "ribosomal[\"symbol\"].head()"
   ]
  },
  {
   "cell_type": "code",
   "execution_count": 9,
   "metadata": {
    "ExecuteTime": {
     "end_time": "2025-05-15T08:46:48.540963Z",
     "start_time": "2025-05-15T08:46:48.292165Z"
    }
   },
   "outputs": [
    {
     "name": "stderr",
     "output_type": "stream",
     "text": [
      "/var/folders/8b/rc5d2b2j6131yf28dplq_0k51g1hnm/T/ipykernel_32425/3323176381.py:3: UserWarning: This pattern is interpreted as a regular expression, and has match groups. To actually get the groups, use str.extract.\n",
      "  pseudogenes[\"name\"].str.contains(\n"
     ]
    },
    {
     "data": {
      "text/plain": [
       "ensembl_gene_id\n",
       "ENSG00000256614      AK6P1\n",
       "ENSG00000257173      AK6P2\n",
       "ENSG00000235297      FAUP1\n",
       "ENSG00000237806      FAUP2\n",
       "                     FAUP3\n",
       "                    ...   \n",
       "ENSG00000244329    UBA52P9\n",
       "ENSG00000225082     DAP3P1\n",
       "ENSG00000228507     DAP3P2\n",
       "ENSG00000259404     EFL1P1\n",
       "ENSG00000248998     EFL1P2\n",
       "Name: symbol, Length: 2692, dtype: object"
      ]
     },
     "execution_count": 9,
     "metadata": {},
     "output_type": "execute_result"
    }
   ],
   "source": [
    "# All pseudogenes (subset by “Locus Type == pseudogene”) that contain the word “ribosomal” in the “Approved name” column\n",
    "ribosomal_pseudo = pseudogenes.loc[\n",
    "    pseudogenes[\"name\"].str.contains(\n",
    "        \"|\".join(ribosomal[\"name\"].tolist())\n",
    "    ) |\n",
    "    pseudogenes[\"name\"].str.contains(\n",
    "        \"|\".join(ribosomal[\"symbol\"].tolist())\n",
    "    ) |\n",
    "    pseudogenes[\"name\"].str.contains(\"ribosomal\"),\n",
    "    \"symbol\"\n",
    "]\n",
    "\n",
    "ribosomal = ribosomal[\"symbol\"]  # name column is not needed anymore\n",
    "\n",
    "ribosomal_pseudo"
   ]
  },
  {
   "cell_type": "code",
   "execution_count": 10,
   "metadata": {
    "ExecuteTime": {
     "end_time": "2025-05-15T08:46:48.711572Z",
     "start_time": "2025-05-15T08:46:48.692579Z"
    }
   },
   "outputs": [
    {
     "data": {
      "text/plain": [
       "ensembl_gene_id\n",
       "ENSG00000268895       A1BG-AS1\n",
       "ENSG00000245105        A2M-AS1\n",
       "ENSG00000256661      A2ML1-AS1\n",
       "ENSG00000256904      A2ML1-AS2\n",
       "ENSG00000242908    AADACL2-AS1\n",
       "                      ...     \n",
       "ENSG00000234567       EYA4-AS2\n",
       "ENSG00000233893        EZR-AS1\n",
       "ENSG00000231882        F10-AS1\n",
       "ENSG00000283828        F10-AS2\n",
       "ENSG00000251165        F11-AS1\n",
       "Name: symbol, Length: 6000, dtype: object"
      ]
     },
     "execution_count": 10,
     "metadata": {},
     "output_type": "execute_result"
    }
   ],
   "source": [
    "# All genes where the “Locus type” contains “RNA, long non-coding”\n",
    "incrna = genenames.loc[genenames.locus_type.str.contains(\"RNA, long non-coding\"), \"symbol\"]\n",
    "incrna"
   ]
  },
  {
   "cell_type": "code",
   "execution_count": 11,
   "metadata": {
    "ExecuteTime": {
     "end_time": "2025-05-15T08:47:12.048514Z",
     "start_time": "2025-05-15T08:46:48.815031Z"
    }
   },
   "outputs": [
    {
     "data": {
      "text/plain": [
       "0       SERBP1P1\n",
       "1       SERBP1P2\n",
       "2       SERBP1P3\n",
       "3       SERBP1P4\n",
       "4       SERBP1P5\n",
       "         ...    \n",
       "295    RN7SKP295\n",
       "296    RN7SKP296\n",
       "297    RN7SKP297\n",
       "298    RN7SKP298\n",
       "299    RN7SKP299\n",
       "Length: 300, dtype: object"
      ]
     },
     "execution_count": 11,
     "metadata": {},
     "output_type": "execute_result"
    }
   ],
   "source": [
    "# All the pseudogenes associated with the genes selected in the IncRNA genes section\n",
    "incrna_pseudo = pd.Series()\n",
    "for name in incrna.values:\n",
    "    df = pseudogenes.loc[pseudogenes.name.str.contains(name), \"symbol\"]\n",
    "    incrna_pseudo = pd.concat((incrna_pseudo, df), ignore_index=True)\n",
    "incrna_pseudo.drop(columns=0, inplace=True)\n",
    "incrna_pseudo"
   ]
  },
  {
   "cell_type": "code",
   "execution_count": 12,
   "metadata": {
    "ExecuteTime": {
     "end_time": "2025-05-15T08:47:12.229735Z",
     "start_time": "2025-05-15T08:47:12.218836Z"
    }
   },
   "outputs": [
    {
     "data": {
      "text/plain": [
       "Ensembl gene ID\n",
       "NaN                    TRA\n",
       "ENSG00000211782    TRAV8-1\n",
       "ENSG00000211844     TRAJ45\n",
       "ENSG00000211843     TRAJ46\n",
       "ENSG00000211842     TRAJ47\n",
       "                    ...   \n",
       "ENSG00000211698      TRGV4\n",
       "ENSG00000211697      TRGV5\n",
       "ENSG00000228668     TRGV5P\n",
       "ENSG00000226212      TRGV6\n",
       "ENSG00000249978      TRGV7\n",
       "Name: Approved symbol, Length: 244, dtype: object"
      ]
     },
     "execution_count": 12,
     "metadata": {},
     "output_type": "execute_result"
    }
   ],
   "source": [
    "tcr_genes = pd.read_csv(\"gene-lists/tcr_genes.tsv\", sep=\"\\t\")\n",
    "tcr_genes.set_index(\"Ensembl gene ID\", inplace=True)\n",
    "tcr_genes = tcr_genes[\"Approved symbol\"]\n",
    "tcr_genes = tcr_genes.loc[~tcr_genes.isin(EXCLUDED_TCR_GENES)]\n",
    "tcr_genes"
   ]
  },
  {
   "cell_type": "code",
   "execution_count": 13,
   "metadata": {
    "ExecuteTime": {
     "end_time": "2025-05-15T08:47:12.400902Z",
     "start_time": "2025-05-15T08:47:12.391563Z"
    }
   },
   "outputs": [
    {
     "data": {
      "text/plain": [
       "Ensembl gene ID\n",
       "ENSG00000271336    IGHD1OR15-1A\n",
       "ENSG00000270185    IGHD1OR15-1B\n",
       "ENSG00000282599    IGHD2OR15-2A\n",
       "ENSG00000282268    IGHD2OR15-2B\n",
       "ENSG00000282520    IGHD3OR15-3A\n",
       "                       ...     \n",
       "ENSG00000254029           IGLC4\n",
       "ENSG00000254030           IGLC5\n",
       "ENSG00000222037           IGLC6\n",
       "ENSG00000211685           IGLC7\n",
       "ENSG00000253823        IGLV1-62\n",
       "Name: Approved symbol, Length: 431, dtype: object"
      ]
     },
     "execution_count": 13,
     "metadata": {},
     "output_type": "execute_result"
    }
   ],
   "source": [
    "bcr_genes = pd.read_csv(\"gene-lists/bcr_genes.tsv\", sep=\"\\t\")\n",
    "bcr_genes.set_index(\"Ensembl gene ID\", inplace=True)\n",
    "bcr_genes = bcr_genes[\"Approved symbol\"]\n",
    "bcr_genes"
   ]
  },
  {
   "cell_type": "code",
   "execution_count": 14,
   "metadata": {
    "ExecuteTime": {
     "end_time": "2025-05-15T08:47:12.694099Z",
     "start_time": "2025-05-15T08:47:12.616814Z"
    }
   },
   "outputs": [
    {
     "data": {
      "text/html": [
       "<div>\n",
       "<style scoped>\n",
       "    .dataframe tbody tr th:only-of-type {\n",
       "        vertical-align: middle;\n",
       "    }\n",
       "\n",
       "    .dataframe tbody tr th {\n",
       "        vertical-align: top;\n",
       "    }\n",
       "\n",
       "    .dataframe thead th {\n",
       "        text-align: right;\n",
       "    }\n",
       "</style>\n",
       "<table border=\"1\" class=\"dataframe\">\n",
       "  <thead>\n",
       "    <tr style=\"text-align: right;\">\n",
       "      <th></th>\n",
       "      <th>HGNC_symbol</th>\n",
       "      <th>a</th>\n",
       "      <th>b</th>\n",
       "      <th>HGNC_symbol_unique</th>\n",
       "    </tr>\n",
       "    <tr>\n",
       "      <th>ENSEMBL_gene</th>\n",
       "      <th></th>\n",
       "      <th></th>\n",
       "      <th></th>\n",
       "      <th></th>\n",
       "    </tr>\n",
       "  </thead>\n",
       "  <tbody>\n",
       "    <tr>\n",
       "      <th>ENSG00000290825</th>\n",
       "      <td>DDX11L2</td>\n",
       "      <td>1</td>\n",
       "      <td>1657</td>\n",
       "      <td>DDX11L2-290825</td>\n",
       "    </tr>\n",
       "    <tr>\n",
       "      <th>ENSG00000223972</th>\n",
       "      <td>DDX11L1</td>\n",
       "      <td>6</td>\n",
       "      <td>632</td>\n",
       "      <td>DDX11L1-223972</td>\n",
       "    </tr>\n",
       "    <tr>\n",
       "      <th>ENSG00000227232</th>\n",
       "      <td>WASH7P</td>\n",
       "      <td>5</td>\n",
       "      <td>1351</td>\n",
       "      <td>WASH7P-227232</td>\n",
       "    </tr>\n",
       "    <tr>\n",
       "      <th>ENSG00000278267</th>\n",
       "      <td>MIR6859-1</td>\n",
       "      <td>1</td>\n",
       "      <td>68</td>\n",
       "      <td>MIR6859-1-278267</td>\n",
       "    </tr>\n",
       "    <tr>\n",
       "      <th>ENSG00000243485</th>\n",
       "      <td>MIR1302-2HG</td>\n",
       "      <td>5</td>\n",
       "      <td>1021</td>\n",
       "      <td>MIR1302-2HG-243485</td>\n",
       "    </tr>\n",
       "  </tbody>\n",
       "</table>\n",
       "</div>"
      ],
      "text/plain": [
       "                 HGNC_symbol  a     b  HGNC_symbol_unique\n",
       "ENSEMBL_gene                                             \n",
       "ENSG00000290825      DDX11L2  1  1657      DDX11L2-290825\n",
       "ENSG00000223972      DDX11L1  6   632      DDX11L1-223972\n",
       "ENSG00000227232       WASH7P  5  1351       WASH7P-227232\n",
       "ENSG00000278267    MIR6859-1  1    68    MIR6859-1-278267\n",
       "ENSG00000243485  MIR1302-2HG  5  1021  MIR1302-2HG-243485"
      ]
     },
     "execution_count": 14,
     "metadata": {},
     "output_type": "execute_result"
    }
   ],
   "source": [
    "cap_genes = pd.read_csv(GENE_MAP_PATH, index_col=0)\n",
    "cap_genes.head()"
   ]
  },
  {
   "cell_type": "code",
   "execution_count": 15,
   "metadata": {
    "ExecuteTime": {
     "end_time": "2025-05-15T08:47:12.868393Z",
     "start_time": "2025-05-15T08:47:12.844539Z"
    }
   },
   "outputs": [
    {
     "data": {
      "text/plain": [
       "ENSEMBL_gene\n",
       "ENSG00000290826    ENSG00000290826.1\n",
       "ENSG00000238009    ENSG00000238009.6\n",
       "ENSG00000239945    ENSG00000239945.1\n",
       "ENSG00000268903    ENSG00000268903.1\n",
       "ENSG00000269981    ENSG00000269981.1\n",
       "                         ...        \n",
       "ENSG00000278198    ENSG00000278198.1\n",
       "ENSG00000273496    ENSG00000273496.1\n",
       "ENSG00000277666    ENSG00000277666.1\n",
       "ENSG00000278782    ENSG00000278782.1\n",
       "ENSG00000277761    ENSG00000277761.1\n",
       "Name: HGNC_symbol, Length: 20191, dtype: object"
      ]
     },
     "execution_count": 15,
     "metadata": {},
     "output_type": "execute_result"
    }
   ],
   "source": [
    "# Filter unknown names as well\n",
    "unknown = cap_genes.loc[cap_genes.HGNC_symbol.str.startswith(\"ENSG\"), \"HGNC_symbol\"]\n",
    "unknown"
   ]
  },
  {
   "cell_type": "code",
   "execution_count": 16,
   "metadata": {
    "ExecuteTime": {
     "end_time": "2025-05-15T08:47:13.059741Z",
     "start_time": "2025-05-15T08:47:13.032738Z"
    }
   },
   "outputs": [
    {
     "data": {
      "text/plain": [
       "ENSEMBL_gene\n",
       "ENSG00000278757            U6\n",
       "ENSG00000205116       TMEM88B\n",
       "ENSG00000227372      TP73-AS1\n",
       "ENSG00000200344         Y_RNA\n",
       "ENSG00000252254         Y_RNA\n",
       "                      ...    \n",
       "ENSG00000286265    AC007244.1\n",
       "ENSG00000286859    AL158214.2\n",
       "ENSG00000287487    AC104633.1\n",
       "ENSG00000287753    AC130307.1\n",
       "ENSG00000288436    AC024558.2\n",
       "Name: HGNC_symbol, Length: 1652, dtype: object"
      ]
     },
     "execution_count": 16,
     "metadata": {},
     "output_type": "execute_result"
    }
   ],
   "source": [
    "# Missing genes = genes which exist of CAP but not in genenames\n",
    "missing = cap_genes.loc[(~cap_genes.HGNC_symbol.isin(genenames.symbol)) & (~cap_genes.HGNC_symbol.str.startswith(\"ENSG\")), \"HGNC_symbol\"]\n",
    "missing"
   ]
  },
  {
   "cell_type": "code",
   "execution_count": 17,
   "metadata": {
    "ExecuteTime": {
     "end_time": "2025-05-15T08:47:13.177682Z",
     "start_time": "2025-05-15T08:47:13.156988Z"
    }
   },
   "outputs": [],
   "source": [
    "genes_to_filter = pd.concat(\n",
    "    (\n",
    "        mitochondrial, \n",
    "        mitochondrial_pseudo,\n",
    "        ribosomal,\n",
    "        ribosomal_pseudo,\n",
    "        incrna,\n",
    "        incrna_pseudo,\n",
    "        tcr_genes,\n",
    "        bcr_genes,\n",
    "        unknown,\n",
    "        missing,\n",
    "    ), \n",
    "    ignore_index=False\n",
    ")\n",
    "genes_to_filter.drop_duplicates(inplace=True)"
   ]
  },
  {
   "cell_type": "code",
   "execution_count": 18,
   "metadata": {
    "ExecuteTime": {
     "end_time": "2025-05-15T08:47:13.310865Z",
     "start_time": "2025-05-15T08:47:13.304891Z"
    }
   },
   "outputs": [
    {
     "data": {
      "text/plain": [
       "ENSG00000177646         ACAD9\n",
       "ENSG00000164896         FASTK\n",
       "ENSG00000138399       FASTKD1\n",
       "ENSG00000118246       FASTKD2\n",
       "ENSG00000124279       FASTKD3\n",
       "                      ...    \n",
       "ENSG00000286265    AC007244.1\n",
       "ENSG00000286859    AL158214.2\n",
       "ENSG00000287487    AC104633.1\n",
       "ENSG00000287753    AC130307.1\n",
       "ENSG00000288436    AC024558.2\n",
       "Length: 31517, dtype: object"
      ]
     },
     "execution_count": 18,
     "metadata": {},
     "output_type": "execute_result"
    }
   ],
   "source": [
    "genes_to_filter"
   ]
  },
  {
   "cell_type": "code",
   "execution_count": 19,
   "metadata": {
    "ExecuteTime": {
     "end_time": "2025-05-15T08:47:13.432468Z",
     "start_time": "2025-05-15T08:47:13.424115Z"
    }
   },
   "outputs": [
    {
     "data": {
      "text/html": [
       "<div>\n",
       "<style scoped>\n",
       "    .dataframe tbody tr th:only-of-type {\n",
       "        vertical-align: middle;\n",
       "    }\n",
       "\n",
       "    .dataframe tbody tr th {\n",
       "        vertical-align: top;\n",
       "    }\n",
       "\n",
       "    .dataframe thead th {\n",
       "        text-align: right;\n",
       "    }\n",
       "</style>\n",
       "<table border=\"1\" class=\"dataframe\">\n",
       "  <thead>\n",
       "    <tr style=\"text-align: right;\">\n",
       "      <th></th>\n",
       "      <th>HGNC_symbol</th>\n",
       "      <th>HGNC_symbol_unique</th>\n",
       "    </tr>\n",
       "    <tr>\n",
       "      <th>ENSEMBL_gene</th>\n",
       "      <th></th>\n",
       "      <th></th>\n",
       "    </tr>\n",
       "  </thead>\n",
       "  <tbody>\n",
       "    <tr>\n",
       "      <th>ENSG00000243485</th>\n",
       "      <td>MIR1302-2HG</td>\n",
       "      <td>MIR1302-2HG-243485</td>\n",
       "    </tr>\n",
       "    <tr>\n",
       "      <th>ENSG00000237613</th>\n",
       "      <td>FAM138A</td>\n",
       "      <td>FAM138A-237613</td>\n",
       "    </tr>\n",
       "    <tr>\n",
       "      <th>ENSG00000290826</th>\n",
       "      <td>ENSG00000290826.1</td>\n",
       "      <td>ENSG00000290826.1-290826</td>\n",
       "    </tr>\n",
       "    <tr>\n",
       "      <th>ENSG00000238009</th>\n",
       "      <td>ENSG00000238009.6</td>\n",
       "      <td>ENSG00000238009.6-238009</td>\n",
       "    </tr>\n",
       "    <tr>\n",
       "      <th>ENSG00000239945</th>\n",
       "      <td>ENSG00000239945.1</td>\n",
       "      <td>ENSG00000239945.1-239945</td>\n",
       "    </tr>\n",
       "    <tr>\n",
       "      <th>...</th>\n",
       "      <td>...</td>\n",
       "      <td>...</td>\n",
       "    </tr>\n",
       "    <tr>\n",
       "      <th>ENSG00000269721</th>\n",
       "      <td>RPL23AP51</td>\n",
       "      <td>RPL23AP51-269721</td>\n",
       "    </tr>\n",
       "    <tr>\n",
       "      <th>ENSG00000293596</th>\n",
       "      <td>SCREEM1</td>\n",
       "      <td>SCREEM1-293596</td>\n",
       "    </tr>\n",
       "    <tr>\n",
       "      <th>ENSG00000283073</th>\n",
       "      <td>SMUG1-AS1</td>\n",
       "      <td>SMUG1-AS1-283073</td>\n",
       "    </tr>\n",
       "    <tr>\n",
       "      <th>ENSG00000254671</th>\n",
       "      <td>STT3A-AS1</td>\n",
       "      <td>STT3A-AS1-254671</td>\n",
       "    </tr>\n",
       "    <tr>\n",
       "      <th>ENSG00000243453</th>\n",
       "      <td>COX7BP1</td>\n",
       "      <td>COX7BP1-243453</td>\n",
       "    </tr>\n",
       "  </tbody>\n",
       "</table>\n",
       "<p>31629 rows × 2 columns</p>\n",
       "</div>"
      ],
      "text/plain": [
       "                       HGNC_symbol        HGNC_symbol_unique\n",
       "ENSEMBL_gene                                                \n",
       "ENSG00000243485        MIR1302-2HG        MIR1302-2HG-243485\n",
       "ENSG00000237613            FAM138A            FAM138A-237613\n",
       "ENSG00000290826  ENSG00000290826.1  ENSG00000290826.1-290826\n",
       "ENSG00000238009  ENSG00000238009.6  ENSG00000238009.6-238009\n",
       "ENSG00000239945  ENSG00000239945.1  ENSG00000239945.1-239945\n",
       "...                            ...                       ...\n",
       "ENSG00000269721          RPL23AP51          RPL23AP51-269721\n",
       "ENSG00000293596            SCREEM1            SCREEM1-293596\n",
       "ENSG00000283073          SMUG1-AS1          SMUG1-AS1-283073\n",
       "ENSG00000254671          STT3A-AS1          STT3A-AS1-254671\n",
       "ENSG00000243453            COX7BP1            COX7BP1-243453\n",
       "\n",
       "[31629 rows x 2 columns]"
      ]
     },
     "execution_count": 19,
     "metadata": {},
     "output_type": "execute_result"
    }
   ],
   "source": [
    "filtered_df = cap_genes.loc[cap_genes.HGNC_symbol.isin(genes_to_filter), [\"HGNC_symbol\", \"HGNC_symbol_unique\"]]\n",
    "filtered_df"
   ]
  },
  {
   "cell_type": "code",
   "execution_count": 20,
   "metadata": {
    "ExecuteTime": {
     "end_time": "2025-05-15T08:47:13.510136Z",
     "start_time": "2025-05-15T08:47:13.506207Z"
    }
   },
   "outputs": [],
   "source": [
    "filtered_df.to_csv(RESULTS_PATH, index=True)"
   ]
  },
  {
   "cell_type": "code",
   "execution_count": null,
   "metadata": {
    "ExecuteTime": {
     "end_time": "2025-05-15T08:47:13.634428Z",
     "start_time": "2025-05-15T08:47:13.632345Z"
    }
   },
   "outputs": [],
   "source": []
  }
 ],
 "metadata": {
  "kernelspec": {
   "display_name": "Python 3 (ipykernel)",
   "language": "python",
   "name": "python3"
  },
  "language_info": {
   "codemirror_mode": {
    "name": "ipython",
    "version": 3
   },
   "file_extension": ".py",
   "mimetype": "text/x-python",
   "name": "python",
   "nbconvert_exporter": "python",
   "pygments_lexer": "ipython3",
   "version": "3.10.13"
  }
 },
 "nbformat": 4,
 "nbformat_minor": 4
}
